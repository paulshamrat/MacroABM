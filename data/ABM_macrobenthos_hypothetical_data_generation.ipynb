{
  "cells": [
    {
      "cell_type": "markdown",
      "metadata": {
        "id": "xbUs_ZZ7D3Yp"
      },
      "source": [
        "#1. Species data"
      ]
    },
    {
      "cell_type": "markdown",
      "metadata": {
        "id": "kHv9k950D59L"
      },
      "source": [
        "Species identification"
      ]
    },
    {
      "cell_type": "code",
      "execution_count": 1,
      "metadata": {
        "colab": {
          "base_uri": "https://localhost:8080/"
        },
        "id": "-reqSF_sBi0F",
        "outputId": "e31dbb5a-c119-4e14-f4ae-99835e8bd355"
      },
      "outputs": [
        {
          "name": "stdout",
          "output_type": "stream",
          "text": [
            "Species identification data saved to macrobenthos_species_identification.csv\n"
          ]
        }
      ],
      "source": [
        "import pandas as pd\n",
        "\n",
        "# Define species identification data\n",
        "species_data = {\n",
        "    'species_id': [1, 2, 3, 4, 5],  # Unique identifier for each species\n",
        "    'name': ['Species_A', 'Species_B', 'Species_C', 'Species_D', 'Species_E'],\n",
        "    'ecological_role': [\n",
        "        'filter_feeder',  # Species A\n",
        "        'predator',       # Species B\n",
        "        'scavenger',      # Species C\n",
        "        'herbivore',      # Species D\n",
        "        'omnivore'        # Species E\n",
        "    ],\n",
        "    'interaction_type': [\n",
        "        'neutral',        # Interaction of Species A\n",
        "        'predation',      # Interaction of Species B\n",
        "        'competition',    # Interaction of Species C\n",
        "        'competition',    # Interaction of Species D\n",
        "        'neutral'         # Interaction of Species E\n",
        "    ],\n",
        "    'diet': [\n",
        "        'plankton',       # Diet of Species A\n",
        "        'small_fish',     # Diet of Species B\n",
        "        'detritus',       # Diet of Species C\n",
        "        'algae',          # Diet of Species D\n",
        "        'varied'          # Diet of Species E\n",
        "    ],\n",
        "    'habitat_preference': [\n",
        "        'shallow_water',  # Habitat preference of Species A\n",
        "        'deep_water',     # Habitat preference of Species B\n",
        "        'benthic',        # Habitat preference of Species C\n",
        "        'reef',           # Habitat preference of Species D\n",
        "        'mudflats'        # Habitat preference of Species E\n",
        "    ]\n",
        "}\n",
        "\n",
        "# Create a DataFrame\n",
        "species_df = pd.DataFrame(species_data)\n",
        "\n",
        "# Save the DataFrame to a CSV file\n",
        "csv_file_path = 'macrobenthos_species_identification.csv'\n",
        "species_df.to_csv(csv_file_path, index=False)\n",
        "\n",
        "print(f\"Species identification data saved to {csv_file_path}\")\n"
      ]
    },
    {
      "cell_type": "markdown",
      "metadata": {
        "id": "X__wFC_NEBHk"
      },
      "source": [
        "Health Metrics:"
      ]
    },
    {
      "cell_type": "code",
      "execution_count": 2,
      "metadata": {
        "colab": {
          "base_uri": "https://localhost:8080/"
        },
        "id": "4EJdsO88B56b",
        "outputId": "aefcecf8-eb9a-4d49-af38-b24d43361c8f"
      },
      "outputs": [
        {
          "name": "stdout",
          "output_type": "stream",
          "text": [
            "Health metrics data saved to macrobenthos_health_metrics.csv\n"
          ]
        }
      ],
      "source": [
        "import pandas as pd\n",
        "\n",
        "# Define health metrics data\n",
        "health_metrics_data = {\n",
        "    'species_id': [1, 2, 3, 4, 5],  # Unique identifier for each species\n",
        "    'baseline_health': [1.0, 1.0, 1.0, 1.0, 1.0],  # Baseline health scale (0 to 1)\n",
        "    'pollutant_sensitivity': [0.1, 0.3, 0.2, 0.4, 0.25],  # Sensitivity to pollutants\n",
        "    'survival_rate': [0.9, 0.8, 0.85, 0.75, 0.7]  # Survival rate under normal conditions\n",
        "}\n",
        "\n",
        "# Create a DataFrame\n",
        "health_metrics_df = pd.DataFrame(health_metrics_data)\n",
        "\n",
        "# Save the DataFrame to a CSV file\n",
        "csv_file_path = 'macrobenthos_health_metrics.csv'\n",
        "health_metrics_df.to_csv(csv_file_path, index=False)\n",
        "\n",
        "print(f\"Health metrics data saved to {csv_file_path}\")\n"
      ]
    },
    {
      "cell_type": "markdown",
      "metadata": {
        "id": "KFLzRJ3fEEJK"
      },
      "source": [
        "\n",
        "Reproduction Rates:"
      ]
    },
    {
      "cell_type": "code",
      "execution_count": 3,
      "metadata": {
        "colab": {
          "base_uri": "https://localhost:8080/"
        },
        "id": "RC2-Sp55CDc9",
        "outputId": "62f156f2-e008-40a5-85eb-3a534ebb163c"
      },
      "outputs": [
        {
          "name": "stdout",
          "output_type": "stream",
          "text": [
            "Reproduction rates data saved to macrobenthos_reproduction_rates.csv\n"
          ]
        }
      ],
      "source": [
        "import pandas as pd\n",
        "\n",
        "# Define reproduction rates data\n",
        "reproduction_rates_data = {\n",
        "    'species_id': [1, 2, 3, 4, 5],  # Unique identifier for each species\n",
        "    'baseline_reproduction_rate': [0.2, 0.15, 0.18, 0.25, 0.22],  # Offspring per time step under normal conditions\n",
        "    'temperature_sensitivity': [0.05, 0.07, 0.06, 0.08, 0.04],  # Sensitivity to temperature changes\n",
        "    'pollutant_sensitivity': [0.1, 0.2, 0.15, 0.3, 0.25],  # Sensitivity to pollutants affecting reproduction\n",
        "    'food_availability_sensitivity': [0.1, 0.12, 0.08, 0.14, 0.1]  # Sensitivity to changes in food availability\n",
        "}\n",
        "\n",
        "# Create a DataFrame\n",
        "reproduction_rates_df = pd.DataFrame(reproduction_rates_data)\n",
        "\n",
        "# Save the DataFrame to a CSV file\n",
        "csv_file_path = 'macrobenthos_reproduction_rates.csv'\n",
        "reproduction_rates_df.to_csv(csv_file_path, index=False)\n",
        "\n",
        "print(f\"Reproduction rates data saved to {csv_file_path}\")\n"
      ]
    },
    {
      "cell_type": "markdown",
      "metadata": {
        "id": "c2JyOTd_EFmj"
      },
      "source": [
        "Movement Patterns:"
      ]
    },
    {
      "cell_type": "code",
      "execution_count": 4,
      "metadata": {
        "colab": {
          "base_uri": "https://localhost:8080/"
        },
        "id": "xiskzbWyCOl_",
        "outputId": "87a39259-0a06-47f4-fce4-ed8d7e72cd4a"
      },
      "outputs": [
        {
          "name": "stdout",
          "output_type": "stream",
          "text": [
            "Movement patterns data saved to macrobenthos_movement_patterns.csv\n"
          ]
        }
      ],
      "source": [
        "import pandas as pd\n",
        "\n",
        "# Define movement patterns data\n",
        "movement_patterns_data = {\n",
        "    'species_id': [1, 2, 3, 4, 5],  # Unique identifier for each species\n",
        "    'movement_range': [5, 3, 4, 6, 2],  # Movement range in grid units or meters\n",
        "    'migration_pattern': [\n",
        "        'random',        # Migration pattern of Species A\n",
        "        'directional',   # Migration pattern of Species B\n",
        "        'seasonal',      # Migration pattern of Species C\n",
        "        'local',         # Migration pattern of Species D\n",
        "        'nomadic'        # Migration pattern of Species E\n",
        "    ],\n",
        "    'migration_frequency': [10, 15, 8, 12, 6],  # Frequency of migration events per time step\n",
        "    'movement_speed': [0.5, 0.3, 0.4, 0.6, 0.2]  # Speed of movement in units per time step\n",
        "}\n",
        "\n",
        "# Create a DataFrame\n",
        "movement_patterns_df = pd.DataFrame(movement_patterns_data)\n",
        "\n",
        "# Save the DataFrame to a CSV file\n",
        "csv_file_path = 'macrobenthos_movement_patterns.csv'\n",
        "movement_patterns_df.to_csv(csv_file_path, index=False)\n",
        "\n",
        "print(f\"Movement patterns data saved to {csv_file_path}\")\n"
      ]
    },
    {
      "cell_type": "markdown",
      "metadata": {
        "id": "J2L5la8GCb-q"
      },
      "source": [
        "# Pollutation Data"
      ]
    },
    {
      "cell_type": "markdown",
      "metadata": {
        "id": "dQWcIHdsER5x"
      },
      "source": [
        "Pollutant Types:"
      ]
    },
    {
      "cell_type": "code",
      "execution_count": 5,
      "metadata": {
        "colab": {
          "base_uri": "https://localhost:8080/"
        },
        "id": "LptPqEK5Cdyq",
        "outputId": "76553754-dfe3-43f6-b720-5b8441b09001"
      },
      "outputs": [
        {
          "name": "stdout",
          "output_type": "stream",
          "text": [
            "Pollutant types data saved to pollutant_types.csv\n"
          ]
        }
      ],
      "source": [
        "import pandas as pd\n",
        "\n",
        "# Define pollutant types data\n",
        "pollutant_types_data = {\n",
        "    'pollutant_id': [1, 2, 3, 4, 5],  # Unique identifier for each pollutant\n",
        "    'name': ['Pollutant_A', 'Pollutant_B', 'Pollutant_C', 'Pollutant_D', 'Pollutant_E'],\n",
        "    'chemical_formula': ['C6H6', 'SO2', 'NO2', 'C2H5OH', 'Pb'],  # Chemical formula of each pollutant\n",
        "    'source': ['industrial', 'automobile', 'industrial', 'household', 'industrial'],  # Source of pollutant\n",
        "    'toxicity': [5.0, 4.5, 4.0, 3.5, 5.5]  # Toxicity level (higher value indicates higher toxicity)\n",
        "}\n",
        "\n",
        "# Create a DataFrame\n",
        "pollutant_types_df = pd.DataFrame(pollutant_types_data)\n",
        "\n",
        "# Save the DataFrame to a CSV file\n",
        "csv_file_path = 'pollutant_types.csv'\n",
        "pollutant_types_df.to_csv(csv_file_path, index=False)\n",
        "\n",
        "print(f\"Pollutant types data saved to {csv_file_path}\")\n"
      ]
    },
    {
      "cell_type": "markdown",
      "metadata": {
        "id": "i2lWKRhAETWF"
      },
      "source": [
        "Pollution Levels"
      ]
    },
    {
      "cell_type": "code",
      "execution_count": 7,
      "metadata": {
        "colab": {
          "base_uri": "https://localhost:8080/"
        },
        "id": "9xgUQkG0CgFo",
        "outputId": "b319c7d8-dd76-4d35-de54-d0116bf50d95"
      },
      "outputs": [
        {
          "name": "stdout",
          "output_type": "stream",
          "text": [
            "Pollution levels data saved to pollution_levels.csv\n"
          ]
        }
      ],
      "source": [
        "import pandas as pd\n",
        "\n",
        "# Define pollution levels data\n",
        "pollution_levels_data = {\n",
        "    'record_id': [1, 2, 3, 4, 5],\n",
        "    'pollutant_id': [1, 2, 3, 4, 5],  # Link to pollutant types\n",
        "    'location': ['Area_1', 'Area_2', 'Area_3', 'Area_4', 'Area_5'],\n",
        "    'date': ['2024-01-01', '2024-01-02', '2024-01-03', '2024-01-04', '2024-01-05'],\n",
        "    'concentration': [75, 120, 90, 85, 110]  # Concentration of pollutant in µg/m³\n",
        "}\n",
        "\n",
        "# Create a DataFrame\n",
        "pollution_levels_df = pd.DataFrame(pollution_levels_data)\n",
        "\n",
        "# Save the DataFrame to a CSV file\n",
        "csv_file_path = 'pollution_levels.csv'\n",
        "pollution_levels_df.to_csv(csv_file_path, index=False)\n",
        "\n",
        "print(f\"Pollution levels data saved to {csv_file_path}\")\n"
      ]
    },
    {
      "cell_type": "markdown",
      "metadata": {
        "id": "CLRqO2V0EZTs"
      },
      "source": [
        "Impact of Pollutants:"
      ]
    },
    {
      "cell_type": "code",
      "execution_count": 8,
      "metadata": {
        "colab": {
          "base_uri": "https://localhost:8080/"
        },
        "id": "8MCltWkKChwn",
        "outputId": "b9929281-42e1-4c7d-af5d-01cb6705be00"
      },
      "outputs": [
        {
          "name": "stdout",
          "output_type": "stream",
          "text": [
            "Impact of pollutants data saved to impact_of_pollutants.csv\n"
          ]
        }
      ],
      "source": [
        "import pandas as pd\n",
        "\n",
        "# Define impact of pollutants data\n",
        "impact_of_pollutants_data = {\n",
        "    'species_id': [1, 2, 3, 4, 5],  # Link to species data\n",
        "    'pollutant_id': [1, 2, 3, 4, 5],  # Link to pollutant types\n",
        "    'health_impact': [0.2, 0.3, 0.25, 0.4, 0.35],  # Impact on health (0 to 1 scale)\n",
        "    'reproduction_impact': [0.1, 0.2, 0.15, 0.3, 0.25],  # Impact on reproduction (0 to 1 scale)\n",
        "    'survival_impact': [0.15, 0.25, 0.2, 0.35, 0.3]  # Impact on survival (0 to 1 scale)\n",
        "}\n",
        "\n",
        "# Create a DataFrame\n",
        "impact_of_pollutants_df = pd.DataFrame(impact_of_pollutants_data)\n",
        "\n",
        "# Save the DataFrame to a CSV file\n",
        "csv_file_path = 'impact_of_pollutants.csv'\n",
        "impact_of_pollutants_df.to_csv(csv_file_path, index=False)\n",
        "\n",
        "print(f\"Impact of pollutants data saved to {csv_file_path}\")\n"
      ]
    },
    {
      "cell_type": "markdown",
      "metadata": {
        "id": "PFPJlSAhCtYa"
      },
      "source": [
        "# 3. Environmental data"
      ]
    },
    {
      "cell_type": "markdown",
      "metadata": {
        "id": "-rblYiQrC1UG"
      },
      "source": [
        "Grid Details"
      ]
    },
    {
      "cell_type": "code",
      "execution_count": 9,
      "metadata": {
        "colab": {
          "base_uri": "https://localhost:8080/"
        },
        "id": "Ie-1x0XSCwqz",
        "outputId": "dea72dff-3b64-4de9-fc5d-c19f6ed2b7c8"
      },
      "outputs": [
        {
          "name": "stdout",
          "output_type": "stream",
          "text": [
            "Grid details data saved to grid_details.csv\n"
          ]
        }
      ],
      "source": [
        "import pandas as pd\n",
        "\n",
        "# Define grid details data\n",
        "grid_details_data = {\n",
        "    'grid_id': [1, 2, 3, 4, 5],  # Unique identifier for each grid cell\n",
        "    'x_coordinate': [0, 1, 2, 3, 4],  # X coordinate of the grid cell\n",
        "    'y_coordinate': [0, 0, 1, 1, 2],  # Y coordinate of the grid cell\n",
        "    'size': [100, 100, 100, 100, 100],  # Size of each grid cell in square meters\n",
        "    'habitat_type': ['sand', 'mud', 'rock', 'coral', 'mud']  # Type of habitat in each grid cell\n",
        "}\n",
        "\n",
        "# Create a DataFrame\n",
        "grid_details_df = pd.DataFrame(grid_details_data)\n",
        "\n",
        "# Save the DataFrame to a CSV file\n",
        "csv_file_path = 'grid_details.csv'\n",
        "grid_details_df.to_csv(csv_file_path, index=False)\n",
        "\n",
        "print(f\"Grid details data saved to {csv_file_path}\")\n"
      ]
    },
    {
      "cell_type": "markdown",
      "metadata": {
        "id": "_D21CbajC4G8"
      },
      "source": [
        "Environmental conditions"
      ]
    },
    {
      "cell_type": "code",
      "execution_count": 10,
      "metadata": {
        "colab": {
          "base_uri": "https://localhost:8080/"
        },
        "id": "4hCJIpWACydY",
        "outputId": "4676905e-610e-4d26-ab43-38d113d18552"
      },
      "outputs": [
        {
          "name": "stdout",
          "output_type": "stream",
          "text": [
            "Environmental conditions data saved to environmental_conditions.csv\n"
          ]
        }
      ],
      "source": [
        "import pandas as pd\n",
        "\n",
        "# Define environmental conditions data\n",
        "environmental_conditions_data = {\n",
        "    'grid_id': [1, 2, 3, 4, 5],  # Unique identifier for each grid cell\n",
        "    'date': ['2024-01-01', '2024-01-02', '2024-01-03', '2024-01-04', '2024-01-05'],\n",
        "    'water_temperature': [22.5, 23.0, 22.8, 23.2, 22.7],  # Water temperature in °C\n",
        "    'salinity': [35.0, 34.8, 35.2, 34.9, 35.1],  # Salinity in PSU (Practical Salinity Units)\n",
        "    'oxygen_level': [6.5, 6.7, 6.6, 6.8, 6.5],  # Dissolved oxygen level in mg/L\n",
        "    'pH': [7.8, 7.9, 7.8, 7.9, 7.8]  # pH level of the water\n",
        "}\n",
        "\n",
        "# Create a DataFrame\n",
        "environmental_conditions_df = pd.DataFrame(environmental_conditions_data)\n",
        "\n",
        "# Save the DataFrame to a CSV file\n",
        "csv_file_path = 'environmental_conditions.csv'\n",
        "environmental_conditions_df.to_csv(csv_file_path, index=False)\n",
        "\n",
        "print(f\"Environmental conditions data saved to {csv_file_path}\")\n"
      ]
    },
    {
      "cell_type": "markdown",
      "metadata": {
        "id": "NRUp15hPDArm"
      },
      "source": [
        "# 4. Temporal Data\n"
      ]
    },
    {
      "cell_type": "markdown",
      "metadata": {
        "id": "_xdIrMJoDDal"
      },
      "source": [
        "Monsoon Cycle"
      ]
    },
    {
      "cell_type": "code",
      "execution_count": 11,
      "metadata": {
        "colab": {
          "base_uri": "https://localhost:8080/"
        },
        "id": "Redlhm7yDB9n",
        "outputId": "3183c4b1-727c-4250-8f3d-9b11abbab853"
      },
      "outputs": [
        {
          "name": "stdout",
          "output_type": "stream",
          "text": [
            "Monsoon cycles data saved to monsoon_cycles.csv\n"
          ]
        }
      ],
      "source": [
        "import pandas as pd\n",
        "\n",
        "# Define monsoon cycles data\n",
        "monsoon_cycles_data = {\n",
        "    'cycle_id': [1, 2, 3, 4, 5],  # Unique identifier for each monsoon cycle\n",
        "    'start_date': ['2024-06-01', '2024-06-15', '2024-07-01', '2024-07-15', '2024-08-01'],  # Start date of the cycle\n",
        "    'end_date': ['2024-06-30', '2024-07-14', '2024-07-31', '2024-08-15', '2024-08-31'],  # End date of the cycle\n",
        "    'intensity': [75, 85, 90, 80, 70],  # Intensity of the monsoon (e.g., mm of rainfall per day)\n",
        "    'duration_days': [30, 30, 31, 31, 31]  # Duration of the cycle in days\n",
        "}\n",
        "\n",
        "# Create a DataFrame\n",
        "monsoon_cycles_df = pd.DataFrame(monsoon_cycles_data)\n",
        "\n",
        "# Save the DataFrame to a CSV file\n",
        "csv_file_path = 'monsoon_cycles.csv'\n",
        "monsoon_cycles_df.to_csv(csv_file_path, index=False)\n",
        "\n",
        "print(f\"Monsoon cycles data saved to {csv_file_path}\")\n"
      ]
    },
    {
      "cell_type": "markdown",
      "metadata": {
        "id": "RljiRKyTDIGx"
      },
      "source": [
        "Pollution Variation\n"
      ]
    },
    {
      "cell_type": "code",
      "execution_count": 12,
      "metadata": {
        "colab": {
          "base_uri": "https://localhost:8080/"
        },
        "id": "LoDOd6kwDKFR",
        "outputId": "686e1528-406b-4210-e59f-9cb3507c94c4"
      },
      "outputs": [
        {
          "name": "stdout",
          "output_type": "stream",
          "text": [
            "Pollution variation data saved to pollution_variation.csv\n"
          ]
        }
      ],
      "source": [
        "import pandas as pd\n",
        "\n",
        "# Define pollution variation data\n",
        "pollution_variation_data = {\n",
        "    'record_id': [1, 2, 3, 4, 5],\n",
        "    'pollutant_id': [1, 2, 3, 4, 5],  # Link to pollutant types\n",
        "    'cycle_id': [1, 2, 3, 4, 5],  # Link to monsoon cycles\n",
        "    'date': ['2024-06-05', '2024-06-20', '2024-07-10', '2024-07-25', '2024-08-10'],\n",
        "    'concentration': [80, 90, 85, 70, 75]  # Concentration of the pollutant in µg/m³\n",
        "}\n",
        "\n",
        "# Create a DataFrame\n",
        "pollution_variation_df = pd.DataFrame(pollution_variation_data)\n",
        "\n",
        "# Save the DataFrame to a CSV file\n",
        "csv_file_path = 'pollution_variation.csv'\n",
        "pollution_variation_df.to_csv(csv_file_path, index=False)\n",
        "\n",
        "print(f\"Pollution variation data saved to {csv_file_path}\")\n"
      ]
    },
    {
      "cell_type": "markdown",
      "metadata": {
        "id": "ePAHF5UgDRrs"
      },
      "source": [
        "# 5. behavioural data"
      ]
    },
    {
      "cell_type": "markdown",
      "metadata": {
        "id": "J-MlFZcgDVzy"
      },
      "source": [
        "Species interaction"
      ]
    },
    {
      "cell_type": "code",
      "execution_count": 13,
      "metadata": {
        "colab": {
          "base_uri": "https://localhost:8080/"
        },
        "id": "WrYRmuGADTyG",
        "outputId": "d4fb52df-6a09-4a5b-ba49-24ee497f5d2b"
      },
      "outputs": [
        {
          "name": "stdout",
          "output_type": "stream",
          "text": [
            "Species interactions data saved to species_interactions.csv\n"
          ]
        }
      ],
      "source": [
        "import pandas as pd\n",
        "\n",
        "# Define species interactions data\n",
        "species_interactions_data = {\n",
        "    'interaction_id': [1, 2, 3, 4, 5],  # Unique identifier for each interaction\n",
        "    'species_id_1': [1, 1, 2, 3, 4],  # First species involved in the interaction\n",
        "    'species_id_2': [2, 3, 4, 5, 1],  # Second species involved in the interaction\n",
        "    'interaction_type': ['competition', 'predation', 'competition', 'predation', 'mutualism'],  # Type of interaction\n",
        "    'interaction_strength': [0.6, 0.8, 0.5, 0.7, 0.4]  # Strength of interaction (0 to 1 scale)\n",
        "}\n",
        "\n",
        "# Create a DataFrame\n",
        "species_interactions_df = pd.DataFrame(species_interactions_data)\n",
        "\n",
        "# Save the DataFrame to a CSV file\n",
        "csv_file_path = 'species_interactions.csv'\n",
        "species_interactions_df.to_csv(csv_file_path, index=False)\n",
        "\n",
        "print(f\"Species interactions data saved to {csv_file_path}\")\n"
      ]
    },
    {
      "cell_type": "markdown",
      "metadata": {
        "id": "0VwUxzMKDYvz"
      },
      "source": [
        "Adaptation strategies"
      ]
    },
    {
      "cell_type": "code",
      "execution_count": 14,
      "metadata": {
        "colab": {
          "base_uri": "https://localhost:8080/"
        },
        "id": "OHv-vlEHDaj5",
        "outputId": "84367689-b61f-4bf4-c995-4a55b35f7e87"
      },
      "outputs": [
        {
          "name": "stdout",
          "output_type": "stream",
          "text": [
            "Adaptation strategies data saved to adaptation_strategies.csv\n"
          ]
        }
      ],
      "source": [
        "import pandas as pd\n",
        "\n",
        "# Define adaptation strategies data\n",
        "adaptation_strategies_data = {\n",
        "    'species_id': [1, 2, 3, 4, 5],  # Unique identifier for each species\n",
        "    'adaptation_type': ['tolerance', 'avoidance', 'behavioral_change', 'physiological_change', 'migration'],  # Type of adaptation\n",
        "    'adaptation_effectiveness': [0.7, 0.5, 0.6, 0.8, 0.9],  # Effectiveness of adaptation (0 to 1 scale)\n",
        "    'adaptation_time': [30, 45, 60, 40, 35]  # Time taken for adaptation in days\n",
        "}\n",
        "\n",
        "# Create a DataFrame\n",
        "adaptation_strategies_df = pd.DataFrame(adaptation_strategies_data)\n",
        "\n",
        "# Save the DataFrame to a CSV file\n",
        "csv_file_path = 'adaptation_strategies.csv'\n",
        "adaptation_strategies_df.to_csv(csv_file_path, index=False)\n",
        "\n",
        "print(f\"Adaptation strategies data saved to {csv_file_path}\")\n"
      ]
    },
    {
      "cell_type": "markdown",
      "metadata": {
        "id": "-2alooB4Dgkt"
      },
      "source": [
        "# Historical data"
      ]
    },
    {
      "cell_type": "markdown",
      "metadata": {
        "id": "fXSzDGH7Dh_z"
      },
      "source": [
        "Historical trends"
      ]
    },
    {
      "cell_type": "code",
      "execution_count": 15,
      "metadata": {
        "colab": {
          "base_uri": "https://localhost:8080/"
        },
        "id": "wONtmcoNDjx7",
        "outputId": "afe576b0-27e3-4098-dbc4-7dd9c8d87ce6"
      },
      "outputs": [
        {
          "name": "stdout",
          "output_type": "stream",
          "text": [
            "Historical trends data saved to historical_trends.csv\n"
          ]
        }
      ],
      "source": [
        "import pandas as pd\n",
        "\n",
        "# Define historical trends data\n",
        "historical_trends_data = {\n",
        "    'record_id': [1, 2, 3, 4, 5],  # Unique identifier for each record\n",
        "    'date': ['2020-01-01', '2020-06-01', '2021-01-01', '2021-06-01', '2022-01-01'],  # Date of the record\n",
        "    'species_id': [1, 1, 2, 2, 3],  # Species identifier\n",
        "    'population': [150, 120, 100, 80, 90],  # Population of the species\n",
        "    'water_temperature': [22.0, 23.5, 21.5, 22.0, 23.0],  # Water temperature in °C\n",
        "    'salinity': [35.2, 34.9, 35.0, 34.8, 35.1]  # Salinity in PSU\n",
        "}\n",
        "\n",
        "# Create a DataFrame\n",
        "historical_trends_df = pd.DataFrame(historical_trends_data)\n",
        "\n",
        "# Save the DataFrame to a CSV file\n",
        "csv_file_path = 'historical_trends.csv'\n",
        "historical_trends_df.to_csv(csv_file_path, index=False)\n",
        "\n",
        "print(f\"Historical trends data saved to {csv_file_path}\")\n"
      ]
    },
    {
      "cell_type": "markdown",
      "metadata": {
        "id": "efDb2QFRDmcB"
      },
      "source": [
        "Case studies"
      ]
    },
    {
      "cell_type": "code",
      "execution_count": 16,
      "metadata": {
        "colab": {
          "base_uri": "https://localhost:8080/"
        },
        "id": "on7C5fUoDl0j",
        "outputId": "fd124902-0bac-47ee-89fa-d415a100f7c5"
      },
      "outputs": [
        {
          "name": "stdout",
          "output_type": "stream",
          "text": [
            "Case studies data saved to case_studies.csv\n"
          ]
        }
      ],
      "source": [
        "import pandas as pd\n",
        "\n",
        "# Define case studies data\n",
        "case_studies_data = {\n",
        "    'study_id': [1, 2, 3, 4, 5],  # Unique identifier for each case study\n",
        "    'title': ['Study on Pollution Effects on Marine Life', 'Impact of Heavy Metals on Freshwater Species',\n",
        "              'Behavioral Changes in Aquatic Ecosystems', 'Long-term Effects of Nutrient Pollution',\n",
        "              'Adaptation of Aquatic Species to Climate Change'],\n",
        "    'author': ['Author A', 'Author B', 'Author C', 'Author D', 'Author E'],  # Authors of the study\n",
        "    'year': [2018, 2019, 2020, 2021, 2022],  # Year of publication\n",
        "    'main_findings': ['Increased mortality rates due to pollutants', 'Significant reduction in species diversity',\n",
        "                       'Altered feeding behaviors and migration patterns', 'Long-term decline in species populations',\n",
        "                       'Increased tolerance to temperature fluctuations']\n",
        "}\n",
        "\n",
        "# Create a DataFrame\n",
        "case_studies_df = pd.DataFrame(case_studies_data)\n",
        "\n",
        "# Save the DataFrame to a CSV file\n",
        "csv_file_path = 'case_studies.csv'\n",
        "case_studies_df.to_csv(csv_file_path, index=False)\n",
        "\n",
        "print(f\"Case studies data saved to {csv_file_path}\")\n"
      ]
    }
  ],
  "metadata": {
    "colab": {
      "provenance": []
    },
    "kernelspec": {
      "display_name": "Python 3",
      "name": "python3"
    },
    "language_info": {
      "codemirror_mode": {
        "name": "ipython",
        "version": 3
      },
      "file_extension": ".py",
      "mimetype": "text/x-python",
      "name": "python",
      "nbconvert_exporter": "python",
      "pygments_lexer": "ipython3",
      "version": "3.10.11"
    }
  },
  "nbformat": 4,
  "nbformat_minor": 0
}
